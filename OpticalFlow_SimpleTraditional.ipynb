{
  "cells": [
    {
      "cell_type": "code",
      "execution_count": null,
      "metadata": {
        "id": "YW8Zkx0CJ1Yp"
      },
      "outputs": [],
      "source": [
        "# Imports\n",
        "%matplotlib inline\n",
        "\n",
        "import cv2 as cv\n",
        "import numpy as np\n",
        "import matplotlib.pyplot as plt"
      ]
    },
    {
      "cell_type": "code",
      "execution_count": null,
      "metadata": {
        "id": "aKVcP2ATKL6X"
      },
      "outputs": [],
      "source": [
        "from google.colab.patches import cv2_imshow\n",
        "from IPython.display import Image\n",
        "\n",
        "img1 = cv.imread('data/frame10.png', cv.IMREAD_UNCHANGED)\n",
        "#cv2_imshow(img1)\n",
        "\n",
        "img2 = cv.imread('data/frame11.png', cv.IMREAD_UNCHANGED)\n",
        "#cv2_imshow(img2)\n",
        "\n",
        "Image(open('data/Dimetrodon.gif','rb').read())"
      ]
    },
    {
      "cell_type": "markdown",
      "metadata": {
        "id": "p1NOBAjjVH--"
      },
      "source": [
        "Corner / Feature Detector"
      ]
    },
    {
      "cell_type": "code",
      "execution_count": null,
      "metadata": {
        "id": "aRzzXs8uPCZF"
      },
      "outputs": [],
      "source": [
        "# Parameters for Shi Tomasi features\n",
        "feature_params = dict(maxCorners=0,  # no limit on number of corners\n",
        "                      qualityLevel=0.15,\n",
        "                      minDistance=50,\n",
        "                      blockSize=7)\n",
        "\n",
        "def shi_tomasi(img):\n",
        "  gray = cv.cvtColor(img, cv.COLOR_BGR2GRAY)\n",
        "  return cv.goodFeaturesToTrack(gray, **feature_params)"
      ]
    },
    {
      "cell_type": "code",
      "execution_count": null,
      "metadata": {
        "id": "dTieTkMlQhwr"
      },
      "outputs": [],
      "source": [
        "corners1 = shi_tomasi(img1)\n",
        "img1_pts = np.copy(img1)\n",
        "corners1 = np.int0(corners1)\n",
        "for i in corners1:\n",
        "    x,y = i.ravel()\n",
        "    cv.circle(img1_pts,(x,y),3,255,-1)\n",
        "\n",
        "cv2_imshow(img1_pts)"
      ]
    },
    {
      "cell_type": "markdown",
      "metadata": {
        "id": "znyRBvDzVM95"
      },
      "source": [
        "Optical Flow - Lukas Kanade"
      ]
    },
    {
      "cell_type": "code",
      "execution_count": null,
      "metadata": {
        "id": "8IjYpekYSTkl"
      },
      "outputs": [],
      "source": [
        "# Parameters for Lucas Kanade optical flow\n",
        "optical_flow_params = dict(winSize=(15, 15),\n",
        "                           maxLevel=2, \n",
        "                           criteria=(cv.TERM_CRITERIA_EPS | cv.TERM_CRITERIA_COUNT, 10, 0.03))\n",
        "\n",
        "def optical_flow(frame0, frame1, corners0):        \n",
        "    # convert images to grayscale\n",
        "    frame0_gray = cv.cvtColor(frame0, cv.COLOR_BGR2GRAY)\n",
        "    frame1_gray = cv.cvtColor(frame1, cv.COLOR_BGR2GRAY)\n",
        "\n",
        "    # Indices of the `status` array which equal 1 signify a corresponding new feature has been found\n",
        "    corners1, status, err = cv.calcOpticalFlowPyrLK(frame0_gray, frame1_gray, corners0, None, **optical_flow_params)\n",
        "    \n",
        "    return corners1, status==1"
      ]
    },
    {
      "cell_type": "code",
      "execution_count": null,
      "metadata": {
        "id": "VJGVa60uVdr-"
      },
      "outputs": [],
      "source": [
        "corners1 = np.float32(corners1)\n",
        "corners2, valid = optical_flow(img1, img2, corners1)\n",
        "velocity = ((corners2 - corners1)[valid==1]).reshape(-1, 2)\n",
        "\n",
        "# Draw OF lines on image\n",
        "c = 0\n",
        "corners1 = np.int0(corners1)\n",
        "img1_LK = np.copy(img1)\n",
        "for i in corners1:\n",
        "    x_start = i.ravel()[0]\n",
        "    y_start = i.ravel()[1]\n",
        "    x_end = x_start + np.int0(velocity[c][0])\n",
        "    y_end = y_start + np.int0(velocity[c][1])\n",
        "    cv.arrowedLine(img1_LK,(x_start, y_start),(x_end, y_end),(255,0,0),1)\n",
        "    c += 1\n",
        "\n",
        "cv2_imshow(img1_LK)"
      ]
    },
    {
      "cell_type": "code",
      "execution_count": null,
      "metadata": {
        "id": "rljfDEfoJC2T"
      },
      "outputs": [],
      "source": [
        "# Zoom into 1 OF vector\n",
        "img1_LK_zoom = cv.resize(img1_LK[0:50, 300:350], None, fx=5, fy=5)\n",
        "cv2_imshow(img1_LK_zoom)"
      ]
    },
    {
      "cell_type": "code",
      "execution_count": null,
      "metadata": {
        "id": "FE3dJv1Q4blU"
      },
      "outputs": [],
      "source": [
        "optical_flow_params = dict(winSize=(5, 5),\n",
        "                           maxLevel=5, \n",
        "                           criteria=(cv.TERM_CRITERIA_EPS | cv.TERM_CRITERIA_COUNT, 10, 0.03))\n",
        "\n",
        "###Coarse-To-Fine method\n",
        "img_LK_start = cv.imread('data/LK_start.jpg', cv.IMREAD_UNCHANGED)\n",
        "img_LK_disp = cv.imread('data/LK_small_disp.jpg', cv.IMREAD_UNCHANGED)\n",
        "#img_LK_disp = cv.imread('data/LK_large_disp.jpg', cv.IMREAD_UNCHANGED)\n",
        "\n",
        "# Get features\n",
        "corners1 = shi_tomasi(img_LK_start)\n",
        "\n",
        "corners1 = np.float32(corners1)\n",
        "corners2, valid = optical_flow(img_LK_start, img_LK_disp, corners1)\n",
        "velocity = ((corners2 - corners1)[valid==1]).reshape(-1, 2)\n",
        "\n",
        "# Draw OF lines on image\n",
        "c = 0\n",
        "corners1 = np.int0(corners1)\n",
        "img_shape_LK = np.copy(img_LK_start)\n",
        "for i in corners1:\n",
        "    x_start = i.ravel()[0]\n",
        "    y_start = i.ravel()[1]\n",
        "    x_end = x_start + np.int0(velocity[c][0])\n",
        "    y_end = y_start + np.int0(velocity[c][1])\n",
        "    cv.arrowedLine(img_shape_LK,(x_start, y_start),(x_end, y_end),(255,0,0),1)\n",
        "    c += 1\n",
        "\n",
        "print(img_shape_LK.shape)\n",
        "cv2_imshow(img_shape_LK)\n",
        "\n",
        "img_shape_LK_disp = np.copy(img_LK_disp)\n",
        "c = 0\n",
        "for i in corners1:\n",
        "    x_start = i.ravel()[0]\n",
        "    y_start = i.ravel()[1]\n",
        "    x_end = x_start + np.int0(velocity[c][0])\n",
        "    y_end = y_start + np.int0(velocity[c][1])\n",
        "    cv.arrowedLine(img_shape_LK_disp,(x_start, y_start),(x_end, y_end),(255,0,0),1)\n",
        "    c += 1\n",
        "\n",
        "#cv2_imshow(img_shape_LK_disp)\n",
        "cv2_imshow(img_shape_LK_disp)"
      ]
    },
    {
      "cell_type": "markdown",
      "metadata": {
        "id": "AJ7E2gzjcKjM"
      },
      "source": [
        "Optical Flow - Gunnar Farneback"
      ]
    },
    {
      "cell_type": "code",
      "execution_count": null,
      "metadata": {
        "id": "eeo7aZhXevBN"
      },
      "outputs": [],
      "source": [
        "# Create mask\n",
        "hsv_mask = np.zeros_like(img1)\n",
        "# Make image saturation to a maximum value\n",
        "hsv_mask[..., 1] = 255\n",
        "\n",
        "frame1_gray = cv.cvtColor(img1, cv.COLOR_BGR2GRAY)\n",
        "frame2_gray = cv.cvtColor(img2, cv.COLOR_BGR2GRAY)\n",
        "gf_flow = cv.calcOpticalFlowFarneback(frame1_gray, frame2_gray, None, 0.5, 3, 8, 5, 5, 1.1, cv.OPTFLOW_FARNEBACK_GAUSSIAN)\n",
        "\n",
        "# Compute magnite and angle of 2D vector\n",
        "mag, ang = cv.cartToPolar(gf_flow[..., 0], gf_flow[..., 1])\n",
        "# Set image hue value according to the angle of optical flow\n",
        "hsv_mask[..., 0] = ang * 180 / np.pi / 2\n",
        "# Set value as per the normalized magnitude of optical flow\n",
        "hsv_mask[..., 2] = cv.normalize(mag, None, 0, 255, cv.NORM_MINMAX)\n",
        "# Convert to rgb\n",
        "rgb_rep = cv.cvtColor(hsv_mask, cv.COLOR_HSV2BGR)\n",
        "\n",
        "cv2_imshow(rgb_rep)"
      ]
    },
    {
      "cell_type": "markdown",
      "metadata": {
        "id": "y5jFtOdVIbpT"
      },
      "source": [
        "Optical Flow - TVL1"
      ]
    },
    {
      "cell_type": "code",
      "execution_count": null,
      "metadata": {
        "id": "c7KDg4pFIeYE"
      },
      "outputs": [],
      "source": [
        "# Create mask\n",
        "hsv_mask_tvl1 = np.zeros_like(img1)\n",
        "# Make image saturation to a maximum value\n",
        "hsv_mask_tvl1[..., 1] = 255\n",
        "\n",
        "tvl1 = cv.optflow.createOptFlow_DualTVL1()\n",
        "tvl1_flow = tvl1.calc(frame1_gray, frame2_gray, None)\n",
        "\n",
        "# Compute magnite and angle of 2D vector\n",
        "mag, ang = cv.cartToPolar(tvl1_flow[..., 0], tvl1_flow[..., 1])\n",
        "# Set image hue value according to the angle of optical flow\n",
        "hsv_mask_tvl1[..., 0] = ang * 180 / np.pi / 2\n",
        "# Set value as per the normalized magnitude of optical flow\n",
        "hsv_mask_tvl1[..., 2] = cv.normalize(mag, None, 0, 255, cv.NORM_MINMAX)\n",
        "# Convert to rgb\n",
        "rgb_rep_tvl1 = cv.cvtColor(hsv_mask_tvl1, cv.COLOR_HSV2BGR)\n",
        "\n",
        "cv2_imshow(rgb_rep_tvl1)"
      ]
    },
    {
      "cell_type": "markdown",
      "metadata": {
        "id": "c4uN4SWh3JNr"
      },
      "source": [
        "Grabbing From Video"
      ]
    },
    {
      "cell_type": "code",
      "execution_count": null,
      "metadata": {
        "id": "JfkQCbk33GNc"
      },
      "outputs": [],
      "source": [
        "import PIL\n",
        "import io\n",
        "from base64 import b64decode, b64encode\n",
        "\n",
        "# function to convert the JavaScript object into an OpenCV image\n",
        "def js_to_image(js_reply):\n",
        "  \"\"\"\n",
        "  Params:\n",
        "          js_reply: JavaScript object containing image from webcam\n",
        "  Returns:\n",
        "          img: OpenCV BGR image\n",
        "  \"\"\"\n",
        "  # decode base64 image\n",
        "  image_bytes = b64decode(js_reply.split(',')[1])\n",
        "  # convert bytes to numpy array\n",
        "  jpg_as_np = np.frombuffer(image_bytes, dtype=np.uint8)\n",
        "  # decode numpy array into OpenCV BGR image\n",
        "  img = cv.imdecode(jpg_as_np, flags=1)\n",
        "\n",
        "  return img\n",
        "\n",
        "# function to convert OpenCV Rectangle bounding box image into base64 byte string to be overlayed on video stream\n",
        "def bbox_to_bytes(bbox_array):\n",
        "  \"\"\"\n",
        "  Params:\n",
        "          bbox_array: Numpy array (pixels) containing rectangle to overlay on video stream.\n",
        "  Returns:\n",
        "        bytes: Base64 image byte string\n",
        "  \"\"\"\n",
        "  # convert array into PIL image\n",
        "  bbox_PIL = PIL.Image.fromarray(bbox_array, 'RGBA')\n",
        "  iobuf = io.BytesIO()\n",
        "  # format bbox into png for return\n",
        "  bbox_PIL.save(iobuf, format='png')\n",
        "  # format return string\n",
        "  bbox_bytes = 'data:image/png;base64,{}'.format((str(b64encode(iobuf.getvalue()), 'utf-8')))\n",
        "\n",
        "  return bbox_bytes"
      ]
    },
    {
      "cell_type": "code",
      "execution_count": null,
      "metadata": {
        "id": "b7wgZCQo01bL"
      },
      "outputs": [],
      "source": [
        "from IPython.display import Javascript\n",
        "from google.colab.output import eval_js\n",
        "\n",
        "# JavaScript to properly create our live video stream using our webcam as input\n",
        "def video_stream():\n",
        "  js = Javascript('''\n",
        "    var video;\n",
        "    var div = null;\n",
        "    var stream;\n",
        "    var captureCanvas;\n",
        "    var imgElement;\n",
        "    var labelElement;\n",
        "    \n",
        "    var pendingResolve = null;\n",
        "    var shutdown = false;\n",
        "    \n",
        "    function removeDom() {\n",
        "       stream.getVideoTracks()[0].stop();\n",
        "       video.remove();\n",
        "       div.remove();\n",
        "       video = null;\n",
        "       div = null;\n",
        "       stream = null;\n",
        "       imgElement = null;\n",
        "       captureCanvas = null;\n",
        "       labelElement = null;\n",
        "    }\n",
        "    \n",
        "    function onAnimationFrame() {\n",
        "      if (!shutdown) {\n",
        "        window.requestAnimationFrame(onAnimationFrame);\n",
        "      }\n",
        "      if (pendingResolve) {\n",
        "        var result = \"\";\n",
        "        if (!shutdown) {\n",
        "          captureCanvas.getContext('2d').drawImage(video, 0, 0, 640, 480);\n",
        "          result = captureCanvas.toDataURL('image/jpeg', 0.8)\n",
        "        }\n",
        "        var lp = pendingResolve;\n",
        "        pendingResolve = null;\n",
        "        lp(result);\n",
        "      }\n",
        "    }\n",
        "    \n",
        "    async function createDom() {\n",
        "      if (div !== null) {\n",
        "        return stream;\n",
        "      }\n",
        "\n",
        "      div = document.createElement('div');\n",
        "      div.style.border = '2px solid black';\n",
        "      div.style.padding = '3px';\n",
        "      div.style.width = '100%';\n",
        "      div.style.maxWidth = '600px';\n",
        "      document.body.appendChild(div);\n",
        "      \n",
        "      const modelOut = document.createElement('div');\n",
        "      modelOut.innerHTML = \"<span>Status:</span>\";\n",
        "      labelElement = document.createElement('span');\n",
        "      labelElement.innerText = 'No data';\n",
        "      labelElement.style.fontWeight = 'bold';\n",
        "      modelOut.appendChild(labelElement);\n",
        "      div.appendChild(modelOut);\n",
        "           \n",
        "      video = document.createElement('video');\n",
        "      video.style.display = 'block';\n",
        "      video.width = div.clientWidth - 6;\n",
        "      video.setAttribute('playsinline', '');\n",
        "      video.onclick = () => { shutdown = true; };\n",
        "      stream = await navigator.mediaDevices.getUserMedia(\n",
        "          {video: { facingMode: \"environment\"}});\n",
        "      div.appendChild(video);\n",
        "\n",
        "      imgElement = document.createElement('img');\n",
        "      imgElement.style.position = 'absolute';\n",
        "      imgElement.style.zIndex = 1;\n",
        "      imgElement.onclick = () => { shutdown = true; };\n",
        "      div.appendChild(imgElement);\n",
        "      \n",
        "      const instruction = document.createElement('div');\n",
        "      instruction.innerHTML = \n",
        "          '<span style=\"color: red; font-weight: bold;\">' +\n",
        "          'When finished, click here or on the video to stop this demo</span>';\n",
        "      div.appendChild(instruction);\n",
        "      instruction.onclick = () => { shutdown = true; };\n",
        "      \n",
        "      video.srcObject = stream;\n",
        "      await video.play();\n",
        "\n",
        "      captureCanvas = document.createElement('canvas');\n",
        "      captureCanvas.width = 640; //video.videoWidth;\n",
        "      captureCanvas.height = 480; //video.videoHeight;\n",
        "      window.requestAnimationFrame(onAnimationFrame);\n",
        "      \n",
        "      return stream;\n",
        "    }\n",
        "    async function stream_frame(label, imgData) {\n",
        "      if (shutdown) {\n",
        "        removeDom();\n",
        "        shutdown = false;\n",
        "        return '';\n",
        "      }\n",
        "\n",
        "      var preCreate = Date.now();\n",
        "      stream = await createDom();\n",
        "      \n",
        "      var preShow = Date.now();\n",
        "      if (label != \"\") {\n",
        "        labelElement.innerHTML = label;\n",
        "      }\n",
        "            \n",
        "      if (imgData != \"\") {\n",
        "        var videoRect = video.getClientRects()[0];\n",
        "        imgElement.style.top = videoRect.top + \"px\";\n",
        "        imgElement.style.left = videoRect.left + \"px\";\n",
        "        imgElement.style.width = videoRect.width + \"px\";\n",
        "        imgElement.style.height = videoRect.height + \"px\";\n",
        "        imgElement.src = imgData;\n",
        "      }\n",
        "      \n",
        "      var preCapture = Date.now();\n",
        "      var result = await new Promise(function(resolve, reject) {\n",
        "        pendingResolve = resolve;\n",
        "      });\n",
        "      shutdown = false;\n",
        "      \n",
        "      return {'create': preShow - preCreate, \n",
        "              'show': preCapture - preShow, \n",
        "              'capture': Date.now() - preCapture,\n",
        "              'img': result};\n",
        "    }\n",
        "    ''')\n",
        "\n",
        "  display(js)\n",
        "  \n",
        "def video_frame(label, bbox):\n",
        "  data = eval_js('stream_frame(\"{}\", \"{}\")'.format(label, bbox))\n",
        "  return data"
      ]
    },
    {
      "cell_type": "code",
      "execution_count": null,
      "metadata": {
        "id": "GKv2aZfb20-S"
      },
      "outputs": [],
      "source": [
        "# start streaming video from webcam\n",
        "video_stream()\n",
        "# label for video\n",
        "label_html = 'Capturing...'\n",
        "# initialze bounding box to empty\n",
        "bbox = ''\n",
        "count = 0 \n",
        "prev_0 = cv.imread('frame10.png', cv.IMREAD_UNCHANGED)\n",
        "prev = cv.resize(prev_0, (640,480))\n",
        "while True:\n",
        "    js_reply = video_frame(label_html, bbox)\n",
        "    if not js_reply:\n",
        "        break\n",
        "\n",
        "    # convert JS response to OpenCV Image\n",
        "    next = js_to_image(js_reply[\"img\"])\n",
        "\n",
        "    # create transparent overlay for bounding box\n",
        "    bbox_array = np.zeros([480,640,4], dtype=np.uint8)\n",
        "\n",
        "    # LK-Method start\n",
        "    # corners1 = shi_tomasi(prev)\n",
        "    # corners1 = np.int0(corners1)\n",
        "\n",
        "    # for i in corners1:\n",
        "    #   x,y = i.ravel()\n",
        "    #   cv.circle(bbox_array,(x,y),3,255,-1)\n",
        "\n",
        "    # corners1 = np.float32(corners1)\n",
        "    # corners2, valid = optical_flow(prev, next, corners1)\n",
        "    # velocity = ((corners2 - corners1)[valid==1]).reshape(-1, 2)\n",
        "\n",
        "    # c = 0\n",
        "    # corners1 = np.int0(corners1)\n",
        "    # for i in ((corners1)[valid==1]):\n",
        "    #   x_start = i.ravel()[0]\n",
        "    #   y_start = i.ravel()[1]\n",
        "    #   x_end = x_start + np.int0(velocity[c][0])\n",
        "    #   y_end = y_start + np.int0(velocity[c][1])\n",
        "    #   cv.line(bbox_array,(x_start, y_start),(x_end, y_end),(255,0,0),1)\n",
        "    #   c += 1\n",
        "    # LK-Method end\n",
        "\n",
        "    # Gunner Farneback start\n",
        "    # hsv_mask = np.zeros_like(prev)\n",
        "    # # Make image saturation to a maximum value\n",
        "    # hsv_mask[..., 1] = 255\n",
        "\n",
        "    # frame1_gray = cv.cvtColor(prev, cv.COLOR_BGR2GRAY)\n",
        "    # frame2_gray = cv.cvtColor(next, cv.COLOR_BGR2GRAY)\n",
        "    # gf_flow = cv.calcOpticalFlowFarneback(frame1_gray, frame2_gray, None, 0.5, 3, 15, 3, 5, 1.2, 0)\n",
        "\n",
        "    # # Compute magnite and angle of 2D vector\n",
        "    # mag, ang = cv.cartToPolar(gf_flow[..., 0], gf_flow[..., 1])\n",
        "    # # Set image hue value according to the angle of optical flow\n",
        "    # hsv_mask[..., 0] = ang * 180 / np.pi / 2\n",
        "    # # Set value as per the normalized magnitude of optical flow\n",
        "    # hsv_mask[..., 2] = cv.normalize(mag, None, 0, 255, cv.NORM_MINMAX)\n",
        "    # # Convert to rgb\n",
        "    # rgb_rep = cv.cvtColor(hsv_mask, cv.COLOR_HSV2BGR)\n",
        "    # rgb_repA = cv.cvtColor(hsv_mask, cv.COLOR_BGR2BGRA)\n",
        "    # bbox_array = np.copy(rgb_repA)\n",
        "    # Gunner Farneback end\n",
        "\n",
        "    # Compute magnite and angle of 2D vector\n",
        "    mag, ang = cv.cartToPolar(tvl1_flow[..., 0], tvl1_flow[..., 1])\n",
        "    # Set image hue value according to the angle of optical flow\n",
        "    hsv_mask_tvl1[..., 0] = ang * 180 / np.pi / 2\n",
        "    # Set value as per the normalized magnitude of optical flow\n",
        "    hsv_mask_tvl1[..., 2] = cv.normalize(mag, None, 0, 255, cv.NORM_MINMAX)\n",
        "    # Convert to rgb\n",
        "    rgb_rep_tvl1 = cv.cvtColor(hsv_mask_tvl1, cv.COLOR_HSV2BGR)\n",
        "    rgb_rep_tvl1A = cv.cvtColor(hsv_mask_tvl1, cv.COLOR_BGR2BGRA)\n",
        "    bbox_array = np.copy(rgb_rep_tvl1A)\n",
        "    # TVL1 end\n",
        "\n",
        "    bbox_array[:,:,3] = (bbox_array.max(axis = 2) > 0 ).astype(int) * 255\n",
        "    # convert overlay of bbox into bytes\n",
        "    bbox_bytes = bbox_to_bytes(bbox_array)\n",
        "    # update bbox so next frame gets new overlay\n",
        "    bbox = bbox_bytes\n",
        "\n",
        "    prev = np.copy(next)"
      ]
    },
    {
      "cell_type": "code",
      "execution_count": null,
      "metadata": {
        "id": "rX_CGrGA3nHf"
      },
      "outputs": [],
      "source": [
        ""
      ]
    }
  ],
  "metadata": {
    "colab": {
      "collapsed_sections": [],
      "name": "OpticalFlow_SimpleTraditional",
      "provenance": []
    },
    "kernelspec": {
      "display_name": "Python 3",
      "name": "python3"
    },
    "language_info": {
      "name": "python"
    }
  },
  "nbformat": 4,
  "nbformat_minor": 0
}